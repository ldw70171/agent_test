{
 "cells": [
  {
   "cell_type": "markdown",
   "id": "01e2fef7",
   "metadata": {},
   "source": [
    "# The Complete Guide to Building Your First AI Agent with LangGraph. (It’s Easier Than You Think)\n",
    "\n",
    "https://medium.com/data-science-collective/the-complete-guide-to-building-your-first-ai-agent-its-easier-than-you-think-c87f376c84b2\n"
   ]
  }
 ],
 "metadata": {
  "language_info": {
   "name": "python"
  }
 },
 "nbformat": 4,
 "nbformat_minor": 5
}
