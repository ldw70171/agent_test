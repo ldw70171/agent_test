{
 "cells": [
  {
   "cell_type": "markdown",
   "id": "01e2fef7",
   "metadata": {},
   "source": [
    "# The Complete Guide to Building Your First AI Agent with LangGraph. (It’s Easier Than You Think)\n",
    "\n",
    "https://medium.com/data-science-collective/the-complete-guide-to-building-your-first-ai-agent-its-easier-than-you-think-c87f376c84b2\n"
   ]
  }
 ],
 "metadata": {
  "kernelspec": {
   "display_name": "crewAI",
   "language": "python",
   "name": "python3"
  },
  "language_info": {
   "name": "python",
   "version": "3.12.0"
  }
 },
 "nbformat": 4,
 "nbformat_minor": 5
}
